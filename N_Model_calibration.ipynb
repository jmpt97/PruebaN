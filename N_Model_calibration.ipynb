{
 "cells": [
  {
   "attachments": {},
   "cell_type": "markdown",
   "metadata": {},
   "source": [
    "### **Importación de librerías necesarias**"
   ]
  },
  {
   "cell_type": "code",
   "execution_count": 15,
   "metadata": {},
   "outputs": [],
   "source": [
    "import numpy as np\n",
    "import pandas as pd\n",
    "from sklearn.model_selection import train_test_split\n",
    "from sklearn.metrics import average_precision_score\n",
    "from xgboost.sklearn import XGBClassifier"
   ]
  },
  {
   "attachments": {},
   "cell_type": "markdown",
   "metadata": {},
   "source": [
    "### **Lectura de datos**"
   ]
  },
  {
   "cell_type": "code",
   "execution_count": 22,
   "metadata": {},
   "outputs": [],
   "source": [
    "data = pd.read_csv('datasets/PS_20174392719_1491204439457_log.csv')\n",
    "train = data.sample(frac=0.75, random_state=99)\n",
    "test = data.loc[~data.index.isin(train.index), :]\n",
    "test = test.loc[(test.type == 'TRANSFER') | (test.type == 'CASH_OUT')]\n",
    "test = test.reset_index(drop=True)\n",
    "del test['isFlaggedFraud']\n",
    "train.to_parquet('HistoricData/train_df.parquet', engine='pyarrow')\n",
    "test.to_parquet('HistoricData/test_cloud_df.parquet', engine='pyarrow')\n"
   ]
  },
  {
   "cell_type": "code",
   "execution_count": 16,
   "metadata": {},
   "outputs": [],
   "source": [
    "data = pd.read_parquet('train_df.parquet', engine='pyarrow')"
   ]
  },
  {
   "cell_type": "code",
   "execution_count": 17,
   "metadata": {},
   "outputs": [],
   "source": [
    "X = data.loc[(data.type == 'TRANSFER') | (data.type == 'CASH_OUT')]\n",
    "randomState = 99\n",
    "np.random.seed(randomState)\n",
    "\n",
    "Y = X['isFraud']\n",
    "del X['isFraud']\n",
    "\n",
    "X = X.drop(['nameOrig', 'nameDest', 'isFlaggedFraud'], axis = 1)\n",
    "X.loc[X.type == 'TRANSFER', 'type'] = 5\n",
    "X.loc[X.type == 'CASH_OUT', 'type'] = 2\n",
    "X.type = X.type.astype(int)"
   ]
  },
  {
   "cell_type": "code",
   "execution_count": 18,
   "metadata": {},
   "outputs": [],
   "source": [
    "trainX, testX, trainY, testY = train_test_split(X, Y, test_size = 0.2, \\\n",
    "                                                random_state = randomState)"
   ]
  },
  {
   "cell_type": "code",
   "execution_count": 19,
   "metadata": {},
   "outputs": [],
   "source": [
    "trainX = trainX.to_numpy()\n",
    "trainY = trainY.to_numpy()\n",
    "testX =  testX.to_numpy()\n",
    "testY = testY.to_numpy()"
   ]
  },
  {
   "cell_type": "code",
   "execution_count": 20,
   "metadata": {},
   "outputs": [
    {
     "name": "stdout",
     "output_type": "stream",
     "text": [
      "AUPRC = 0.9341369589051862\n"
     ]
    }
   ],
   "source": [
    "# Long computation in this cell (~1.8 minutes)\n",
    "weights = (Y == 0).sum() / (1.0 * (Y == 1).sum())\n",
    "clf = XGBClassifier(max_depth = 3, scale_pos_weight = weights, \\\n",
    "                n_jobs = 4)\n",
    "probabilities = clf.fit(trainX, trainY).predict_proba(testX)\n",
    "print('AUPRC = {}'.format(average_precision_score(testY, \\\n",
    "                                              probabilities[:, 1])))\n",
    "                                              \n",
    "clf.save_model(\"Model/xgboost.json\")                                              "
   ]
  }
 ],
 "metadata": {
  "kernelspec": {
   "display_name": "NequiTest",
   "language": "python",
   "name": "python3"
  },
  "language_info": {
   "codemirror_mode": {
    "name": "ipython",
    "version": 3
   },
   "file_extension": ".py",
   "mimetype": "text/x-python",
   "name": "python",
   "nbconvert_exporter": "python",
   "pygments_lexer": "ipython3",
   "version": "3.10.11"
  },
  "orig_nbformat": 4
 },
 "nbformat": 4,
 "nbformat_minor": 2
}
